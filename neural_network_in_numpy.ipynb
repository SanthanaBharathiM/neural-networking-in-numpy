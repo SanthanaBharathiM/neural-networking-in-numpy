{
  "nbformat": 4,
  "nbformat_minor": 0,
  "metadata": {
    "colab": {
      "provenance": []
    },
    "kernelspec": {
      "name": "python3",
      "display_name": "Python 3"
    },
    "language_info": {
      "name": "python"
    }
  },
  "cells": [
    {
      "cell_type": "markdown",
      "source": [
        "How It Works\n",
        "Data: We use a small dataset where each row is [hours studied, hours slept], and the label is 1 (pass) or 0 (fail).\n",
        "Forward Pass: The network multiplies inputs by weights, adds a bias, and applies the sigmoid function to predict a probability.\n",
        "Training: For 1000 epochs, it:\n",
        "Computes the error (difference between predicted and actual).\n",
        "Adjusts weights and bias using gradients to reduce error.\n",
        "Prediction: Outputs 1 (pass) if the probability ≥ 0.5, else 0 (fail).\n",
        "Output: For test cases like [5, 6], it predicts whether the student passes.\n",
        "Running the Code\n",
        "Running the code will output predictions like:\n",
        "\n",
        "Studied: 5h, Slept: 6h -> Predicted: Pass\n",
        "Studied: 2h, Slept: 2h -> Predicted: Fail\n",
        "Studied: 7h, Slept: 7h -> Predicted: Pass\n",
        "Intuitive Insights\n",
        "Weights: Represent the importance of each input. If studying matters more than sleeping, its weight will be higher.\n",
        "Bias: Acts like a baseline, shifting the decision boundary.\n",
        "Learning: The network iteratively tweaks weights to better fit the data, like a chef refining a recipe.\n",
        "Limitations: A single-layer network can only solve simple problems. For complex patterns, we need multi-layer networks (deep learning)."
      ],
      "metadata": {
        "id": "LmR8FRk9V0QX"
      }
    },
    {
      "cell_type": "code",
      "execution_count": null,
      "metadata": {
        "id": "3U-WK56EJCpL"
      },
      "outputs": [],
      "source": [
        "import numpy as np\n",
        "\n",
        "# Sigmoid activation function\n",
        "def sigmoid(x):\n",
        "    return 1 / (1 + np.exp(-x))\n",
        "\n",
        "# Derivative of sigmoid for gradient descent\n",
        "def sigmoid_derivative(x):\n",
        "    return x * (1 - x)\n",
        "\n",
        "# Neural Network class\n",
        "class NeuralNetwork:\n",
        "    def __init__(self):\n",
        "        # Initialize weights and bias randomly\n",
        "        np.random.seed(42)\n",
        "        self.weights = np.random.rand(2)  # Two inputs\n",
        "        self.bias = np.random.rand(1)\n",
        "        self.learning_rate = 0.1\n",
        "\n",
        "    def forward(self, X):\n",
        "        # Compute weighted sum and apply sigmoid\n",
        "        self.z = np.dot(X, self.weights) + self.bias\n",
        "        self.output = sigmoid(self.z)\n",
        "        return self.output\n",
        "\n",
        "    def train(self, X, y, epochs):\n",
        "        for epoch in range(epochs):\n",
        "            # Forward pass\n",
        "            output = self.forward(X)\n",
        "\n",
        "            # Compute error (mean squared error)\n",
        "            error = y - output\n",
        "\n",
        "            # Compute gradients\n",
        "            d_output = error * sigmoid_derivative(output)\n",
        "            d_weights = np.dot(X.T, d_output)\n",
        "            d_bias = np.sum(d_output)\n",
        "\n",
        "            # Update weights and bias\n",
        "            self.weights += self.learning_rate * d_weights\n",
        "            self.bias += self.learning_rate * d_bias\n",
        "\n",
        "    def predict(self, X):\n",
        "        # Return binary prediction (0 or 1)\n",
        "        return (self.forward(X) >= 0.5).astype(int)\n",
        "\n",
        "# Sample data: [hours studied, hours slept], pass (1) or fail (0)\n",
        "X = np.array([[2, 3], [4, 5], [6, 7], [8, 8], [1, 2], [3, 1]])  # Inputs\n",
        "y = np.array([0, 0, 1, 1, 0, 0])  # Outputs\n",
        "\n",
        "# Create and train neural network\n",
        "nn = NeuralNetwork()\n",
        "nn.train(X, y, epochs=1000)\n",
        "\n",
        "# Test predictions\n",
        "test_cases = np.array([[5, 6], [2, 2], [7, 7]])\n",
        "predictions = nn.predict(test_cases)\n",
        "\n",
        "# Print results\n",
        "for i, test in enumerate(test_cases):\n",
        "    print(f\"Studied: {test[0]}h, Slept: {test[1]}h -> Predicted: {'Pass' if predictions[i] == 1 else 'Fail'}\")"
      ]
    }
  ]
}